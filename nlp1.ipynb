{
 "cells": [
  {
   "cell_type": "code",
   "execution_count": 1,
   "metadata": {},
   "outputs": [
    {
     "name": "stdout",
     "output_type": "stream",
     "text": [
      "('athor', 'Topic', 'pages')\n",
      "('shiva', 'ml for education', 5)\n",
      "('shiva', 'optimization in investing', '10')\n"
     ]
    }
   ],
   "source": [
    "library = [\n",
    "    ('athor', \"Topic\", 'pages'),\n",
    "    ('shiva', 'ml for education', 5),\n",
    "    ('shiva', 'optimization in investing', '10')\n",
    "]\n",
    "# print(library)\n",
    "for book in library :\n",
    "    print (book)\n",
    "\n",
    "    "
   ]
  },
  {
   "cell_type": "code",
   "execution_count": 2,
   "metadata": {},
   "outputs": [
    {
     "name": "stdout",
     "output_type": "stream",
     "text": [
      "('athor', 'Topic', 'pages')\n",
      "('shiva', 'ml for education', 5)\n",
      "('shiva', 'optimization in investing', '10')\n"
     ]
    }
   ],
   "source": [
    "for author in library:\n",
    "    print(author)"
   ]
  },
  {
   "cell_type": "code",
   "execution_count": 4,
   "metadata": {},
   "outputs": [
    {
     "name": "stdout",
     "output_type": "stream",
     "text": [
      "('athor', 'Topic', 'pages')\n",
      "('shiva', 'ml for education', 5)\n",
      "('shiva', 'optimization in investing', '10')\n"
     ]
    }
   ],
   "source": [
    "for book in library :\n",
    "    print(book)"
   ]
  },
  {
   "cell_type": "code",
   "execution_count": 5,
   "metadata": {},
   "outputs": [
    {
     "name": "stdout",
     "output_type": "stream",
     "text": [
      "author is athor \n",
      "author is shiva \n",
      "author is shiva \n"
     ]
    }
   ],
   "source": [
    "for book in library:\n",
    "    print(f\"author is {book[0]} \")"
   ]
  },
  {
   "cell_type": "code",
   "execution_count": 6,
   "metadata": {},
   "outputs": [
    {
     "name": "stdout",
     "output_type": "stream",
     "text": [
      "the book 'Topic' was written by athor\n",
      "the book 'ml for education' was written by shiva\n",
      "the book 'optimization in investing' was written by shiva\n"
     ]
    }
   ],
   "source": [
    "for book in library:\n",
    "    print(f\"the book '{book[1]}' was written by {book[0]}\")"
   ]
  },
  {
   "cell_type": "code",
   "execution_count": 13,
   "metadata": {},
   "outputs": [
    {
     "name": "stdout",
     "output_type": "stream",
     "text": [
      "athor     , Topic                         ,pages \n",
      "shiva     , ml for education              ,....5 \n",
      "shiva     , optimization in investing     ,...10 \n"
     ]
    }
   ],
   "source": [
    "# we are using tuple unpacking here\n",
    "for author , topic , pages in library:\n",
    "    print(f\"{author:{10}}, {topic:{30}},{pages:.>{5}} \")"
   ]
  },
  {
   "cell_type": "code",
   "execution_count": 14,
   "metadata": {},
   "outputs": [],
   "source": [
    "from datetime import datetime"
   ]
  },
  {
   "cell_type": "code",
   "execution_count": 15,
   "metadata": {},
   "outputs": [],
   "source": [
    "today = datetime(year = 2024 , month = 7, day = 28)"
   ]
  },
  {
   "cell_type": "code",
   "execution_count": 19,
   "metadata": {},
   "outputs": [
    {
     "name": "stdout",
     "output_type": "stream",
     "text": [
      "July, 28, 2024\n"
     ]
    }
   ],
   "source": [
    "# we can go to strftime website to find \n",
    "print(f\"{today:%B, %d, %Y}\")"
   ]
  },
  {
   "cell_type": "code",
   "execution_count": 17,
   "metadata": {},
   "outputs": [
    {
     "data": {
      "text/plain": [
       "datetime.datetime(2024, 7, 28, 0, 0)"
      ]
     },
     "execution_count": 17,
     "metadata": {},
     "output_type": "execute_result"
    }
   ],
   "source": [
    "today"
   ]
  },
  {
   "cell_type": "code",
   "execution_count": null,
   "metadata": {},
   "outputs": [],
   "source": []
  }
 ],
 "metadata": {
  "kernelspec": {
   "display_name": "Python 3",
   "language": "python",
   "name": "python3"
  },
  "language_info": {
   "codemirror_mode": {
    "name": "ipython",
    "version": 3
   },
   "file_extension": ".py",
   "mimetype": "text/x-python",
   "name": "python",
   "nbconvert_exporter": "python",
   "pygments_lexer": "ipython3",
   "version": "3.9.19"
  }
 },
 "nbformat": 4,
 "nbformat_minor": 2
}
